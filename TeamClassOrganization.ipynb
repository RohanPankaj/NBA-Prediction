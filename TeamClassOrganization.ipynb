{
 "metadata": {
  "language_info": {
   "codemirror_mode": {
    "name": "ipython",
    "version": 3
   },
   "file_extension": ".py",
   "mimetype": "text/x-python",
   "name": "python",
   "nbconvert_exporter": "python",
   "pygments_lexer": "ipython3",
   "version": 3
  },
  "orig_nbformat": 2
 },
 "nbformat": 4,
 "nbformat_minor": 2,
 "cells": [
  {
   "cell_type": "code",
   "execution_count": null,
   "metadata": {},
   "outputs": [],
   "source": [
    "import nba_api\n",
    "from nba_api.stats.static import teams, players\n",
    "from nba_api.stats.endpoints import playercareerstats, leaguegamefinder, playerdashboardbyclutch, playergamelogs, commonplayerinfo, teamplayeronoffdetails\n",
    "import pandas as pd"
   ]
  },
  {
   "cell_type": "code",
   "execution_count": null,
   "metadata": {},
   "outputs": [],
   "source": [
    "class Player(object):\n",
    "    def __init__(self, PlayerID, TeamID):\n",
    "        self.PlayerID =  Player ID \n",
    "        find_player_details()\n",
    "        self.PlayerName = players.find_player_by_id(player_id=self.PlayerID)['full_name']\n",
    "        self.TeamID = TeamID\n",
    "        self.StartYear = commonplayerinfo.CommonPlayerInfo(player_id= self.PlayerID).get_data_frames()[0]['FROM_YEAR'][0] \n",
    "        self.LastYear = commonplayerinfo.CommonPlayerInfo(player_id= self.PlayerID).get_data_frames()[0]['FROM_YEAR'][0] \n",
    "        self.Data = compile_active_player_data()\n",
    "\n",
    "    def compile_active_player_data(self):\n",
    "        game_date_raw_data = []\n",
    "        win_loss_raw_data = []\n",
    "        free_throws_raw_data = [] \n",
    "        feild_goals_2pts_raw_data = []\n",
    "        feild_goals_3pts_raw_data = []\n",
    "        matchup_raw_data = []\n",
    "        for year in range((self.StartYear), (self.LastYear)):\n",
    "\n",
    "            season = str(year) + \"-\" + str(((year+1)-2000))\n",
    "            playerLogs = playergamelogs.PlayerGameLogs(player_id_nullable=self.PlayerID, season_nullable=season)\n",
    "        \n",
    "            game_date_api_data = playerLogs.get_data_frames()[0][\"GAME_DATE\"]\n",
    "            win_loss_api_data = playerLogs.get_data_frames()[0][\"WL\"]\n",
    "            free_throws_api_data = playerLogs.get_data_frames()[0][\"FTM\"]\n",
    "            feild_goals_2pts_api_data = playerLogs.get_data_frames()[0][\"FGM\"]\n",
    "            feild_goals_3pts_api_data = playerLogs.get_data_frames()[0][\"FG3M\"]\n",
    "            matchup_api_data = playerLogs.get_data_frames()[0][\"MATCHUP\"]\n",
    "            \n",
    "            \n",
    "            for game in range(0, len(game_date_api_data)):\n",
    "                    game_date_raw_data.append(game_date_api_data[game])\n",
    "                    win_loss_raw_data.append(win_loss_api_data[game])\n",
    "                    free_throws_raw_data.append(free_throws_api_data[game]) \n",
    "                    feild_goals_2pts_raw_data.append(feild_goals_2pts_api_data[game])\n",
    "                    feild_goals_3pts_raw_data.append(feild_goals_3pts_api_data[game])\n",
    "                    matchup_raw_data.append(matchup_api_data[game])\n",
    "        player_data = {\n",
    "        \"Game Date\": game_date_raw_data,\n",
    "        \"Win/Loss\": win_loss_raw_data,\n",
    "        \"Free Throws\": free_throws_raw_data,\n",
    "        \"Feild Goals 2pts\": feild_goals_2pts_raw_data,\n",
    "        \"Feild Goals 3pts\": feild_goals_3pts_raw_data,\n",
    "        \"Matchup\": matchup_raw_data\n",
    "        }\n",
    "\n",
    "        player_dataFrame = pd.DataFrame(data=player_data)\n",
    "        return(player_dataFrame)\n",
    "\n",
    "    \n",
    "\n"
   ]
  },
  {
   "cell_type": "code",
   "execution_count": null,
   "metadata": {},
   "outputs": [],
   "source": [
    "class Team(object): \n",
    "    def __init__(self,TeamName):\n",
    "        self.TeamName = TeamName\n",
    "        self.TeamID = teams.find_teams_by_full_name(\"Portland Trail Blazers\")[0]['id']\n",
    "        self.ActivePlayerLists = compile_active_player_list()\n",
    "\n",
    "    compile_active_player_list(self):\n",
    "        active_team_player_raw =teamplayeronoffdetails.TeamPlayerOnOffDetails(team_id=self.TeamID)\n",
    "        ActivePlayer_List = {}\n",
    "        for player in range(0, len(active_team_player_raw[\"VS_PLAYER_NAME\"])):\n",
    "            ActivePlayer_Lists[active_team_player_raw[\"VS_PLAYER_NAME\"][player]] = active_team_player_raw[\"VS_PLAYER_ID\"][player]\n",
    "        ActivePlayer_DataFrame = pd.Data(data=ActivePlayer_List)\n",
    "        return(ActivePlayer_DataFrame)\n",
    "    \n",
    "\n"
   ]
  }
 ]
}