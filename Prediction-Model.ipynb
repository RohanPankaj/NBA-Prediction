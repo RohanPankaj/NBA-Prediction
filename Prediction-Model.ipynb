{
 "metadata": {
  "language_info": {
   "codemirror_mode": {
    "name": "ipython",
    "version": 3
   },
   "file_extension": ".py",
   "mimetype": "text/x-python",
   "name": "python",
   "nbconvert_exporter": "python",
   "pygments_lexer": "ipython3",
   "version": "3.7.3-final"
  },
  "orig_nbformat": 2,
  "kernelspec": {
   "name": "python3",
   "display_name": "Python 3",
   "language": "python"
  }
 },
 "nbformat": 4,
 "nbformat_minor": 2,
 "cells": [
  {
   "cell_type": "code",
   "execution_count": 1,
   "metadata": {},
   "outputs": [],
   "source": [
    "import pathlib\n",
    "import pandas as pd \n",
    "import seaborn as sns\n",
    "import tensorflow as tf\n",
    "from tensorflow import keras\n",
    "from tensorflow.keras import layers\n",
    "\n",
    "import nba_api\n",
    "from nba_api.stats.static import teams, players\n",
    "from nba_api.stats.endpoints import playercareerstats, leaguegamefinder, playerdashboardbyclutch, playergamelogs, commonplayerinfo, teamplayeronoffdetails, teamdashboardbyopponent, teamgamelogs"
   ]
  },
  {
   "cell_type": "code",
   "execution_count": 2,
   "metadata": {},
   "outputs": [
    {
     "output_type": "error",
     "ename": "NameError",
     "evalue": "name 'teamgamelogs' is not defined",
     "traceback": [
      "\u001b[1;31m---------------------------------------------------------------------------\u001b[0m",
      "\u001b[1;31mNameError\u001b[0m                                 Traceback (most recent call last)",
      "\u001b[1;32m<ipython-input-2-af973865ee97>\u001b[0m in \u001b[0;36m<module>\u001b[1;34m\u001b[0m\n\u001b[1;32m----> 1\u001b[1;33m \u001b[0mtest\u001b[0m\u001b[1;33m=\u001b[0m \u001b[0mteamgamelogs\u001b[0m\u001b[1;33m.\u001b[0m\u001b[0mTeamGameLogs\u001b[0m\u001b[1;33m(\u001b[0m\u001b[0mteam_id_nullable\u001b[0m\u001b[1;33m=\u001b[0m\u001b[1;34m\"1610612757\"\u001b[0m\u001b[1;33m,\u001b[0m \u001b[0mseason_nullable\u001b[0m\u001b[1;33m=\u001b[0m\u001b[1;34m\"2019-20\"\u001b[0m\u001b[1;33m,\u001b[0m \u001b[0mopp_team_id_nullable\u001b[0m\u001b[1;33m=\u001b[0m\u001b[1;34m\"1610612742\"\u001b[0m\u001b[1;33m)\u001b[0m\u001b[1;33m\u001b[0m\u001b[1;33m\u001b[0m\u001b[0m\n\u001b[0m\u001b[0;32m      2\u001b[0m \u001b[0mtest\u001b[0m\u001b[1;33m.\u001b[0m\u001b[0mget_data_frames\u001b[0m\u001b[1;33m(\u001b[0m\u001b[1;33m)\u001b[0m\u001b[1;33m[\u001b[0m\u001b[1;36m0\u001b[0m\u001b[1;33m]\u001b[0m\u001b[1;33m\u001b[0m\u001b[1;33m\u001b[0m\u001b[0m\n",
      "\u001b[1;31mNameError\u001b[0m: name 'teamgamelogs' is not defined"
     ]
    }
   ],
   "source": [
    "test= teamgamelogs.TeamGameLogs(team_id_nullable=\"1610612757\", season_nullable=\"2019-20\", opp_team_id_nullable=\"1610612742\")\n",
    "test.get_data_frames()[0]\n"
   ]
  },
  {
   "cell_type": "code",
   "execution_count": 3,
   "metadata": {},
   "outputs": [
    {
     "output_type": "error",
     "ename": "NameError",
     "evalue": "name 'Player' is not defined",
     "traceback": [
      "\u001b[1;31m---------------------------------------------------------------------------\u001b[0m",
      "\u001b[1;31mNameError\u001b[0m                                 Traceback (most recent call last)",
      "\u001b[1;32m<ipython-input-3-a26d05bd39ce>\u001b[0m in \u001b[0;36m<module>\u001b[1;34m\u001b[0m\n\u001b[1;32m----> 1\u001b[1;33m \u001b[0mtest\u001b[0m \u001b[1;33m=\u001b[0m \u001b[0mPlayer\u001b[0m\u001b[1;33m(\u001b[0m\u001b[1;36m203081\u001b[0m\u001b[1;33m)\u001b[0m\u001b[1;33m\u001b[0m\u001b[1;33m\u001b[0m\u001b[0m\n\u001b[0m\u001b[0;32m      2\u001b[0m \u001b[0mtest\u001b[0m\u001b[1;33m.\u001b[0m\u001b[0mprediction\u001b[0m\u001b[1;33m(\u001b[0m\u001b[1;33m)\u001b[0m\u001b[1;33m\u001b[0m\u001b[1;33m\u001b[0m\u001b[0m\n",
      "\u001b[1;31mNameError\u001b[0m: name 'Player' is not defined"
     ]
    }
   ],
   "source": [
    "test = Player(203081)\n",
    "test.prediction()"
   ]
  },
  {
   "cell_type": "code",
   "execution_count": null,
   "metadata": {},
   "outputs": [],
   "source": [
    "class Team(object): \n",
    "    def __init__(self,TeamName):\n",
    "        self.TeamName = TeamName\n",
    "        self.TeamID = teams.find_teams_by_full_name(\"Portland Trail Blazers\")[0]['id']\n",
    "        #self.ActivePlayerLists = compile_active_player_DataFrame()\n",
    "\n",
    "    def compile_team_roster_DataFrame(self):\n",
    "        print(\"It\")\n",
    "        active_team_player_raw =teamplayeronoffdetails.TeamPlayerOnOffDetails(team_id=self.TeamID).get_data_frames()[1]\n",
    "\n",
    "        name_list = []\n",
    "        id_list = []\n",
    "        for player in range(0, len(active_team_player_raw[\"VS_PLAYER_NAME\"])):\n",
    "            \n",
    "           \n",
    "            name_list.append(active_team_player_raw[\"VS_PLAYER_NAME\"][player])\n",
    "            id_list.append(active_team_player_raw[\"VS_PLAYER_ID\"][player])\n",
    "            \n",
    "        \n",
    "        ActivePlayer_List = {\n",
    "            \"Name\": name_list,\n",
    "            \"Player ID\": id_list\n",
    "        }\n",
    "       \n",
    "        ActivePlayer_DataFrame = pd.DataFrame(data=ActivePlayer_List)\n",
    "        \n",
    "        return(ActivePlayer_DataFrame)\n",
    "        \n",
    "\n",
    "    def compile_active_team_player_data(self):\n",
    "        \n",
    "        team_roster_DataFrame = self.compile_team_roster_DataFrame()\n",
    "        print(\"This is it\")\n",
    "        \n",
    "        player_data = []\n",
    "        for i in range(0, len(team_roster_DataFrame[\"Name\"])):\n",
    "            player_object = team_roster_DataFrame[\"Name\"][i]\n",
    "            print(\"initial\", player_object)\n",
    "            player_id= team_roster_DataFrame[\"Player ID\"][i]\n",
    "            player_name= team_roster_DataFrame[\"Name\"][i]\n",
    "            print(\"iteration\", i)\n",
    "            print(player_id, type(player_id))\n",
    "            try:\n",
    "                player_object = Player(player_id, self.TeamID) #TODO: Make Player ID auto\n",
    "                print(player_object, \"second time\")\n",
    "                print(\"In the try \")\n",
    "                player_data.append(player_object.get_active_player_data())\n",
    "            except:\n",
    "                print(\"Error for\", player_name)\n",
    "            \n",
    "        print(player_data)\n",
    "        player_data = {\n",
    "            \"Player Data\": player_data\n",
    "        }\n",
    "        player_data_DataFrame = pd.DataFrame(data=player_data)\n",
    "        \n",
    "        #print(player_data)\n",
    "        return(player_data_DataFrame)\n",
    "        #player_data_DataFrame[\"Name\"] = player_DataFrame[]\n",
    "            \n",
    "   \n",
    "    \n"
   ]
  }
 ]
}