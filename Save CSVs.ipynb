{
 "cells": [
  {
   "cell_type": "code",
   "execution_count": null,
   "id": "fossil-collins",
   "metadata": {},
   "outputs": [],
   "source": [
    "#DO NOT RUN THIS PROGRAM. This program compiles the .csv files found in the data folder. It is only meant to be used once a year at the start of the season."
   ]
  },
  {
   "cell_type": "code",
   "execution_count": null,
   "id": "embedded-collins",
   "metadata": {},
   "outputs": [],
   "source": [
    "#imports\n",
    "import pandas as pd \n",
    "import seaborn as sns\n",
    "import tensorflow as tf\n",
    "from tensorflow import keras\n",
    "from tensorflow.keras import layers\n",
    "import time\n",
    "import matplotlib.pyplot as plt\n",
    "import math\n",
    "from datetime import datetime\n",
    "\n",
    "\n",
    "import nba_api\n",
    "from nba_api.stats.static import teams, players\n",
    "from nba_api.stats.endpoints import playercareerstats, leaguegamefinder, playerdashboardbyclutch, playergamelogs, commonplayerinfo, teamplayeronoffdetails, teamgamelogs\n"
   ]
  },
  {
   "cell_type": "code",
   "execution_count": null,
   "id": "minute-disclosure",
   "metadata": {
    "scrolled": true
   },
   "outputs": [],
   "source": [
    "team_abbreviations = ['ATL', 'BKN', 'BOS', 'CHA', 'CHI', 'CLE', 'DAL', 'DEN', 'DET', 'GSW', 'HOU', 'IND', 'IND', 'LAC', 'LAL', 'MEM', 'MIA', 'MIL', 'MIN', 'NOP', 'NYK', 'OKC', 'ORL', 'PHI', 'PHX', 'POR', 'SAC', 'SAS', 'TOR', 'UTA', 'WAS']\n",
    "\n",
    "for team in team_abbreviations:\n",
    "    team_id = int(teams.find_team_by_abbreviation(team)[\"id\"])\n",
    "    start_year=2009\n",
    "    last_year= datetime.now().year - 1\n",
    "    for_delition = []\n",
    "    \n",
    "    #combined_teamLogs = pd.DataFrame()\n",
    "    for year in range(start_year, last_year):\n",
    "        print(\"-------------------------------------------------\")\n",
    "        season = str(year) + \"-\" + str(((year+1)-2000)) #format the season correctly for the API\n",
    "\n",
    "        teamLogs_regular = teamgamelogs.TeamGameLogs(team_id_nullable=team_id, season_nullable=season).get_data_frames()[0]\n",
    "        time.sleep(1)\n",
    "        teamLogs_playoffs = teamgamelogs.TeamGameLogs(team_id_nullable=team_id, season_nullable=season, season_type_nullable=\"Playoffs\").get_data_frames()[0]\n",
    "        teamLogs = pd.concat([teamLogs_playoffs, teamLogs_regular]).reset_index(drop = True)\n",
    "\n",
    "        if year == 2009:\n",
    "            combined_teamLogs = teamLogs\n",
    "        else:\n",
    "            combined_teamLogs = pd.concat([combined_teamLogs, teamLogs]).reset_index(drop = True)\n",
    "       \n",
    "        time.sleep(1)\n",
    "    \n",
    "    \n",
    "    csv_name = \"data/\"+ team + \".csv\"\n",
    "    team_csv=combined_teamLogs.to_csv(csv_name)\n",
    "\n",
    "    \n",
    "        "
   ]
  },
  {
   "cell_type": "code",
   "execution_count": null,
   "id": "robust-typing",
   "metadata": {},
   "outputs": [],
   "source": [
    "for i in range(0,5):\n",
    "    print(i)"
   ]
  },
  {
   "cell_type": "code",
   "execution_count": null,
   "id": "cross-buddy",
   "metadata": {},
   "outputs": [],
   "source": [
    "for file in for_delition:\n",
    "    print(file)\n",
    "    team_csv + (file)\n",
    "    #team_csv.concat([team_csv, file]).reset_index(drop = True)\n",
    "print(team_csv)\n",
    "        "
   ]
  }
 ],
 "metadata": {
  "kernelspec": {
   "display_name": "Python 3",
   "language": "python",
   "name": "python3"
  },
  "language_info": {
   "codemirror_mode": {
    "name": "ipython",
    "version": 3
   },
   "file_extension": ".py",
   "mimetype": "text/x-python",
   "name": "python",
   "nbconvert_exporter": "python",
   "pygments_lexer": "ipython3",
   "version": "3.7.9"
  }
 },
 "nbformat": 4,
 "nbformat_minor": 5
}
