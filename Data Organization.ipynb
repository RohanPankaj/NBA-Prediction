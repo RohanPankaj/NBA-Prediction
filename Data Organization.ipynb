{
 "metadata": {
  "language_info": {
   "codemirror_mode": {
    "name": "ipython",
    "version": 3
   },
   "file_extension": ".py",
   "mimetype": "text/x-python",
   "name": "python",
   "nbconvert_exporter": "python",
   "pygments_lexer": "ipython3",
   "version": "3.7.3-final"
  },
  "orig_nbformat": 2,
  "kernelspec": {
   "name": "python3",
   "display_name": "Python 3",
   "language": "python"
  }
 },
 "nbformat": 4,
 "nbformat_minor": 2,
 "cells": [
  {
   "cell_type": "code",
   "execution_count": 2,
   "metadata": {},
   "outputs": [],
   "source": [
    "import nba_api\n",
    "from nba_api.stats.static import teams, players\n",
    "from nba_api.stats.endpoints import playercareerstats, leaguegamefinder, playerdashboardbyclutch, playergamelogs, commonplayerinfo, teamplayeronoffdetails\n",
    "import pandas as pd\n"
   ]
  },
  {
   "cell_type": "code",
   "execution_count": 13,
   "metadata": {},
   "outputs": [
    {
     "output_type": "stream",
     "name": "stdout",
     "text": [
      "{'Anthony, Carmelo': 2546, 'Blevins, Keljin': 1629833, 'Covington, Robert': 203496, 'Elleby, CJ': 1629604, 'Giles III, Harry': 1628385, 'Hood, Rodney': 203918, 'Jones Jr., Derrick': 1627884, 'Kanter, Enes': 202683, 'Lillard, Damian': 203081, 'Little, Nassir': 1629642, 'McCollum, CJ': 203468, 'Nurkic, Jusuf': 203994, 'Simons, Anfernee': 1629014, 'Trent Jr., Gary': 1629018}\n"
     ]
    }
   ],
   "source": [
    "team_players =teamplayeronoffdetails.TeamPlayerOnOffDetails(team_id=1610612757).get_data_frames()[1]\n",
    "team_players\n",
    "team_player_id = {}\n",
    "\n",
    "for player in range(0, len(team_players[\"VS_PLAYER_NAME\"])):\n",
    "    team_player_id[team_players[\"VS_PLAYER_NAME\"][player]] = team_players[\"VS_PLAYER_ID\"][player]\n",
    "print(team_player_id)"
   ]
  },
  {
   "cell_type": "code",
   "execution_count": 14,
   "metadata": {},
   "outputs": [
    {
     "output_type": "stream",
     "name": "stdout",
     "text": [
      "Anthony, Carmelo\nBlevins, Keljin\nCovington, Robert\nElleby, CJ\nGiles III, Harry\nHood, Rodney\nJones Jr., Derrick\nKanter, Enes\nLillard, Damian\nLittle, Nassir\nMcCollum, CJ\nNurkic, Jusuf\nSimons, Anfernee\nTrent Jr., Gary\n"
     ]
    }
   ],
   "source": [
    "for player in team_player_id:\n",
    "        print(player)"
   ]
  },
  {
   "cell_type": "code",
   "execution_count": 3,
   "metadata": {},
   "outputs": [],
   "source": [
    "player_id_local = '203081'"
   ]
  },
  {
   "cell_type": "code",
   "execution_count": 4,
   "metadata": {},
   "outputs": [
    {
     "output_type": "stream",
     "name": "stdout",
     "text": [
      "2012 2020\n"
     ]
    }
   ],
   "source": [
    "#Find when the player started\n",
    "player_start_year = commonplayerinfo.CommonPlayerInfo(player_id= player_id_local).get_data_frames()[0]['FROM_YEAR'][0] \n",
    "player_last_year = commonplayerinfo.CommonPlayerInfo(player_id= player_id_local).get_data_frames()[0]['TO_YEAR'] [0]\n",
    "print(player_start_year, player_last_year)"
   ]
  },
  {
   "cell_type": "code",
   "execution_count": 5,
   "metadata": {
    "tags": []
   },
   "outputs": [
    {
     "output_type": "stream",
     "name": "stdout",
     "text": [
      "               Game Date Win/Loss  Free Throws  Feild Goals 2pts  \\\n0    2013-04-17T00:00:00        L            5                 7   \n1    2013-04-16T00:00:00        L            2                 4   \n2    2013-04-14T00:00:00        L            6                10   \n3    2013-04-12T00:00:00        L            3                 3   \n4    2013-04-10T00:00:00        L            9                12   \n5    2013-04-07T00:00:00        L            3                 6   \n6    2013-04-05T00:00:00        L            2                 4   \n7    2013-04-03T00:00:00        L            0                 8   \n8    2013-04-01T00:00:00        L            0                 7   \n9    2013-03-30T00:00:00        L            6                 4   \n10   2013-03-29T00:00:00        L           10                 7   \n11   2013-03-27T00:00:00        L            4                 4   \n12   2013-03-24T00:00:00        L            1                 7   \n13   2013-03-22T00:00:00        W            2                 8   \n14   2013-03-21T00:00:00        W            2                 9   \n15   2013-03-19T00:00:00        L            4                 2   \n16   2013-03-18T00:00:00        L            2                10   \n17   2013-03-16T00:00:00        W            7                 3   \n18   2013-03-14T00:00:00        W            0                11   \n19   2013-03-12T00:00:00        L            8                 8   \n20   2013-03-10T00:00:00        L            0                 9   \n21   2013-03-08T00:00:00        W            8                12   \n22   2013-03-06T00:00:00        L            2                 8   \n23   2013-03-04T00:00:00        W            1                 8   \n24   2013-03-02T00:00:00        W            4                 9   \n25   2013-02-27T00:00:00        L            6                 8   \n26   2013-02-24T00:00:00        W            2                 5   \n27   2013-02-22T00:00:00        L            0                 9   \n28   2013-02-19T00:00:00        L            5                 8   \n29   2013-02-13T00:00:00        L            4                 4   \n..                   ...      ...          ...               ...   \n585  2019-12-26T00:00:00        L            7                10   \n586  2019-12-23T00:00:00        L            6                 6   \n587  2019-12-21T00:00:00        W            6                10   \n588  2019-12-20T00:00:00        W            3                13   \n589  2019-12-18T00:00:00        W           11                 9   \n590  2019-12-16T00:00:00        W            6                 9   \n591  2019-12-12T00:00:00        L            1                 5   \n592  2019-12-10T00:00:00        W            5                 9   \n593  2019-12-08T00:00:00        L            8                 8   \n594  2019-12-06T00:00:00        L            9                 9   \n595  2019-12-04T00:00:00        W            6                 7   \n596  2019-12-03T00:00:00        L            4                 5   \n597  2019-11-29T00:00:00        W            7                 9   \n598  2019-11-27T00:00:00        W            8                 7   \n599  2019-11-25T00:00:00        W            4                 4   \n600  2019-11-23T00:00:00        L            5                 7   \n601  2019-11-18T00:00:00        L            4                 4   \n602  2019-11-16T00:00:00        W           13                 4   \n603  2019-11-13T00:00:00        L            3                 2   \n604  2019-11-12T00:00:00        L           13                 6   \n605  2019-11-10T00:00:00        W           11                 8   \n606  2019-11-08T00:00:00        L           15                19   \n607  2019-11-07T00:00:00        L            1                 9   \n608  2019-11-04T00:00:00        L            4                15   \n609  2019-11-02T00:00:00        L            3                11   \n610  2019-10-30T00:00:00        W            5                 7   \n611  2019-10-28T00:00:00        L            7                 9   \n612  2019-10-27T00:00:00        W            7                10   \n613  2019-10-25T00:00:00        W            8                12   \n614  2019-10-23T00:00:00        L            9                10   \n\n     Feild Goals 3pts      Matchup  \n0                   2  POR vs. GSW  \n1                   2    POR @ LAC  \n2                   4    POR @ DEN  \n3                   1  POR vs. OKC  \n4                   5  POR vs. LAL  \n5                   0  POR vs. DAL  \n6                   1  POR vs. HOU  \n7                   1  POR vs. MEM  \n8                   3    POR @ UTA  \n9                   2    POR @ GSW  \n10                  0  POR vs. UTA  \n11                  3  POR vs. BKN  \n12                  4    POR @ OKC  \n13                  4    POR @ ATL  \n14                  4    POR @ CHI  \n15                  0    POR @ MIL  \n16                  5    POR @ PHI  \n17                  1  POR vs. DET  \n18                  4  POR vs. NYK  \n19                  3  POR vs. MEM  \n20                  2    POR @ NOH  \n21                  3    POR @ SAS  \n22                  2    POR @ MEM  \n23                  3  POR vs. CHA  \n24                  2  POR vs. MIN  \n25                  4  POR vs. DEN  \n26                  0  POR vs. BOS  \n27                  1    POR @ LAL  \n28                  3  POR vs. PHX  \n29                  0    POR @ NOH  \n..                ...          ...  \n585                 7    POR @ UTA  \n586                 0  POR vs. NOP  \n587                 3  POR vs. MIN  \n588                 7  POR vs. ORL  \n589                 2  POR vs. GSW  \n590                 3    POR @ PHX  \n591                 2    POR @ DEN  \n592                 8  POR vs. NYK  \n593                 2  POR vs. OKC  \n594                 2  POR vs. LAL  \n595                 4  POR vs. SAC  \n596                 2    POR @ LAC  \n597                 3  POR vs. CHI  \n598                 5  POR vs. OKC  \n599                 1    POR @ CHI  \n600                 4    POR @ CLE  \n601                 1    POR @ HOU  \n602                 1    POR @ SAS  \n603                 2  POR vs. TOR  \n604                 2    POR @ SAC  \n605                 3  POR vs. ATL  \n606                 7  POR vs. BKN  \n607                 3    POR @ LAC  \n608                 5    POR @ GSW  \n609                 8  POR vs. PHI  \n610                 4    POR @ OKC  \n611                 3    POR @ SAS  \n612                 1    POR @ DAL  \n613                 3    POR @ SAC  \n614                 3  POR vs. DEN  \n\n[615 rows x 6 columns]\n"
     ]
    }
   ],
   "source": [
    "# Right Now I am getting the Data for Damian Lillard  \n",
    "\n",
    "\n",
    "#win_loss = pd.Series()\n",
    "game_date_raw_data = []\n",
    "win_loss_raw_data = []\n",
    "free_throws_raw_data = [] \n",
    "feild_goals_2pts_raw_data = []\n",
    "feild_goals_3pts_raw_data = []\n",
    "matchup_raw_data = []\n",
    "for year in range((player_start_year), (player_last_year)):\n",
    "\n",
    "        season = str(year) + \"-\" + str(((year+1)-2000))\n",
    "        playerLogs = playergamelogs.PlayerGameLogs(player_id_nullable=player_id_local, season_nullable=season)\n",
    "      \n",
    "        \n",
    "        game_date_api_data = playerLogs.get_data_frames()[0][\"GAME_DATE\"]\n",
    "        win_loss_api_data = playerLogs.get_data_frames()[0][\"WL\"]\n",
    "        free_throws_api_data = playerLogs.get_data_frames()[0][\"FTM\"]\n",
    "        feild_goals_2pts_api_data = playerLogs.get_data_frames()[0][\"FGM\"]\n",
    "        feild_goals_3pts_api_data = playerLogs.get_data_frames()[0][\"FG3M\"]\n",
    "        matchup_api_data = playerLogs.get_data_frames()[0][\"MATCHUP\"]\n",
    "        \n",
    "        \n",
    "        for game in range(0, len(game_date_api_data)):\n",
    "                game_date_raw_data.append(game_date_api_data[game])\n",
    "                win_loss_raw_data.append(win_loss_api_data[game])\n",
    "                free_throws_raw_data.append(free_throws_api_data[game]) \n",
    "                feild_goals_2pts_raw_data.append(feild_goals_2pts_api_data[game])\n",
    "                feild_goals_3pts_raw_data.append(feild_goals_3pts_api_data[game])\n",
    "                matchup_raw_data.append(matchup_api_data[game])\n",
    "\n",
    "\n",
    "player_data = {\n",
    "        \"Game Date\": game_date_raw_data,\n",
    "        \"Win/Loss\": win_loss_raw_data,\n",
    "        \"Free Throws\": free_throws_raw_data,\n",
    "        \"Feild Goals 2pts\": feild_goals_2pts_raw_data,\n",
    "        \"Feild Goals 3pts\": feild_goals_3pts_raw_data,\n",
    "        \"Matchup\": matchup_raw_data\n",
    "}\n",
    "player_dataFrame = pd.DataFrame(data=player_data)\n",
    "print(player_dataFrame)\n",
    "\n",
    "\n",
    "     \n",
    "\n",
    "\n",
    "\n",
    "\n",
    "\n",
    "\n",
    "\n"
   ]
  },
  {
   "cell_type": "code",
   "execution_count": null,
   "metadata": {},
   "outputs": [],
   "source": []
  }
 ]
}