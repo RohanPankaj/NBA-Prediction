{
 "metadata": {
  "language_info": {
   "codemirror_mode": {
    "name": "ipython",
    "version": 3
   },
   "file_extension": ".py",
   "mimetype": "text/x-python",
   "name": "python",
   "nbconvert_exporter": "python",
   "pygments_lexer": "ipython3",
   "version": "3.7.3-final"
  },
  "orig_nbformat": 2,
  "kernelspec": {
   "name": "python3",
   "display_name": "Python 3",
   "language": "python"
  }
 },
 "nbformat": 4,
 "nbformat_minor": 2,
 "cells": [
  {
   "cell_type": "code",
   "execution_count": 33,
   "metadata": {},
   "outputs": [],
   "source": [
    "import nba_api\n",
    "from nba_api.stats.static import teams, players\n",
    "from nba_api.stats.endpoints import playercareerstats, leaguegamefinder, playerdashboardbyclutch, playergamelogs, commonplayerinfo\n",
    "import pandas as pd"
   ]
  },
  {
   "cell_type": "code",
   "execution_count": 42,
   "metadata": {},
   "outputs": [],
   "source": [
    "player_id_local = '203081'"
   ]
  },
  {
   "cell_type": "code",
   "execution_count": 50,
   "metadata": {},
   "outputs": [
    {
     "output_type": "stream",
     "name": "stdout",
     "text": [
      "2012 2020\n"
     ]
    }
   ],
   "source": [
    "#Find when the player started\n",
    "player_start_year = commonplayerinfo.CommonPlayerInfo(player_id= player_id_local).get_data_frames()[0]['FROM_YEAR'][0] \n",
    "player_last_year = commonplayerinfo.CommonPlayerInfo(player_id= player_id_local).get_data_frames()[0]['TO_YEAR'] [0]\n",
    "print(player_start_year, player_last_year)"
   ]
  },
  {
   "cell_type": "code",
   "execution_count": 91,
   "metadata": {
    "tags": []
   },
   "outputs": [
    {
     "output_type": "stream",
     "name": "stdout",
     "text": [
      "Empty DataFrame\n",
      "Columns: [Win/Loss, Free Throws, 2pt Feild Goals, 3pt Feild Goals, Matchup]\n",
      "Index: []\n",
      "2012-13\n",
      "2013-14\n",
      "2014-15\n",
      "2015-16\n",
      "2016-17\n",
      "2017-18\n",
      "2018-19\n",
      "2019-20\n",
      "0     W\n",
      "1     W\n",
      "2     W\n",
      "3     L\n",
      "4     W\n",
      "5     W\n",
      "6     L\n",
      "7     W\n",
      "8     W\n",
      "9     L\n",
      "10    L\n",
      "11    W\n",
      "12    L\n",
      "13    L\n",
      "14    W\n",
      "15    L\n",
      "16    W\n",
      "17    L\n",
      "18    W\n",
      "19    W\n",
      "20    W\n",
      "21    W\n",
      "22    L\n",
      "23    W\n",
      "24    L\n",
      "25    L\n",
      "26    W\n",
      "27    W\n",
      "28    L\n",
      "29    L\n",
      "     ..\n",
      "36    L\n",
      "37    L\n",
      "38    W\n",
      "39    W\n",
      "40    W\n",
      "41    W\n",
      "42    L\n",
      "43    W\n",
      "44    L\n",
      "45    L\n",
      "46    W\n",
      "47    L\n",
      "48    W\n",
      "49    W\n",
      "50    W\n",
      "51    L\n",
      "52    L\n",
      "53    W\n",
      "54    L\n",
      "55    L\n",
      "56    W\n",
      "57    L\n",
      "58    L\n",
      "59    L\n",
      "60    L\n",
      "61    W\n",
      "62    L\n",
      "63    W\n",
      "64    W\n",
      "65    L\n",
      "Name: WL, Length: 66, dtype: object\n",
      "Empty DataFrame\n",
      "Columns: [Win/Loss, Free Throws, 2pt Feild Goals, 3pt Feild Goals, Matchup]\n",
      "Index: []\n"
     ]
    }
   ],
   "source": [
    "# Right Now I am getting the Data for Damian Lillard  \n",
    "\n",
    "player_data = {\n",
    "    \n",
    "}\n",
    "player_dataFrame = pd.DataFrame(columns = [\"Win/Loss\", \"Free Throws\", \"2pt Feild Goals\", \"3pt Feild Goals\", \"Matchup\"])\n",
    "print(player_dataFrame)\n",
    "for year in range((player_start_year), (player_last_year)):\n",
    "        season = str(year) + \"-\" + str(((year+1)-2000))\n",
    "        print(season)\n",
    "        playerLogs = playergamelogs.PlayerGameLogs(player_id_nullable=player_id_local, season_nullable=season)\n",
    "        test = playerLogs.get_data_frames()[0]\n",
    "        #print(test)\n",
    "        type(playerLogs.get_data_frames()[0][\"WL\"][0])\n",
    "        win_loss = playerLogs.get_data_frames()[0][\"WL\"]\n",
    "        free_throws = playerLogs.get_data_frames()[0][\"FTM\"]\n",
    "        feild_goals_2pts = playerLogs.get_data_frames()[0][\"FGM\"]\n",
    "        feild_goals_3pts = playerLogs.get_data_frames()[0][\"FG3M\"]\n",
    "        matchup = playerLogs.get_data_frames()[0][\"MATCHUP\"]\n",
    "\n",
    "        player_dataFrame[\"Win/Loss\"].append(win_loss)\n",
    "print(win_loss) \n",
    "print(player_dataFrame)\n",
    "\n",
    "\n",
    "\n",
    "\n",
    "\n",
    "\n",
    "\n"
   ]
  },
  {
   "cell_type": "code",
   "execution_count": null,
   "metadata": {},
   "outputs": [],
   "source": []
  }
 ]
}